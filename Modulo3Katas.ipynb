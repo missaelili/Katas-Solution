{
 "cells": [
  {
   "cell_type": "markdown",
   "metadata": {},
   "source": [
    "## Ejercicio - Escribir declaraciones if, else, y elif\n",
    "\n",
    "Para este ejercicio, escribirás una lógica condicional que imprima una advertencia si un asteroide se acerca a la Tierra demasiado rápido. La velocidad del asteroide varía dependiendo de lo cerca que esté del sol, y cualquier velocidad superior a 25 kilómetros por segundo (km/s) merece una advertencia.\n",
    "\n",
    "Un asteroide se acerca, y viaja a una velocidad de 49 km/s."
   ]
  },
  {
   "cell_type": "code",
   "execution_count": 13,
   "metadata": {},
   "outputs": [
    {
     "name": "stdout",
     "output_type": "stream",
     "text": [
      "Advertencia el asteroide viaje a una velocidad de 35\n"
     ]
    }
   ],
   "source": [
    "velocidad_asteroide = int(input(\"Velocidad del asteroide\")) ##En este ejemplo el asteroide viaja a 49 km/s\n",
    "\n",
    "if(velocidad_asteroide > 25):\n",
    "    print(\"Advertencia el asteroide viaje a una velocidad de \" + str(velocidad_asteroide))\n",
    "else:\n",
    "    \"No se encontro ningun peligro\""
   ]
  },
  {
   "cell_type": "markdown",
   "metadata": {},
   "source": [
    "Si un asteroide entra en la atmósfera de la Tierra a una velocidad mayor o igual a 20 km/s, a veces produce un rayo de luz que se puede ver desde la Tierra. Escribe la lógica condicional que usa declaraciones if, else, y elif para alertar a las personas de todo el mundo que deben buscar un asteroide en el cielo. ¡Hay uno que se dirige a la tierra ahora a una velocidad de 19 km/s!"
   ]
  },
  {
   "cell_type": "code",
   "execution_count": 14,
   "metadata": {},
   "outputs": [
    {
     "name": "stdout",
     "output_type": "stream",
     "text": [
      "El asteroide se encuentra cerca del rayo de luz\n"
     ]
    }
   ],
   "source": [
    "velocidad_asteroide = int(input(\"Velocidad del asteroide\")) ##En este ejemplo el asteroide viaja a 19 km/s\n",
    "if(velocidad_asteroide >= 20):\n",
    "    print(\"Esten atentos el asteroide puede producir un destello de luz\")\n",
    "else:\n",
    "    print(\"La velocidad del asteroide no era lo suficientemente rapida para producir un destello de luz !Esten atentos¡\")"
   ]
  },
  {
   "cell_type": "markdown",
   "metadata": {},
   "source": [
    "## Ejercicio: Uso de operadores and y or\n",
    "En este ejercicio, aprenderás información más matizada sobre cuándo los asteroides representan un peligro para la Tierra, y utilizarás esa información para mejorar nuestro sistema de advertencia. Aquí está la nueva información que necesitas saber:\n",
    "\n",
    "*Los asteroides de menos de 25 metros en su dimensión más grande probablemente se quemarán a medida que entren en la atmósfera de la Tierra.\n",
    "\n",
    "Si una pieza de un asteroide que es más grande que 25 metros pero más pequeña que 1000 metros golpeara la Tierra, causaría mucho daño.\n",
    "También discutimos en el ejercicio anterior que:\n",
    "\n",
    "La velocidad del asteroide varía en función de lo cerca que esté del sol, y cualquier velocidad superior a 25 kilómetros por segundo (km/s) merece una advertencia.\n",
    "Si un asteroide entra en la atmósfera de la Tierra a una velocidad mayor o igual a 20 km/s, a veces produce un rayo de luz que se puede ver desde la Tierra.\n",
    "Usando toda esta información, escribe un programa que emita la advertencia o información correcta a la gente de la Tierra, según la velocidad y el tamaño de un asteroide. Utiliza instrucciones if, else, y elif, así como los operadores and y or."
   ]
  },
  {
   "cell_type": "code",
   "execution_count": 4,
   "metadata": {},
   "outputs": [
    {
     "name": "stdout",
     "output_type": "stream",
     "text": [
      "Esten atentos el asteroide puede producir un destello de luz al entrar a la superficie\n",
      "Advertencia un asteroide de gran tamaño y velocidad impactara con la tierra en los siguientes minutos\n"
     ]
    }
   ],
   "source": [
    "velocidad_asteroide = int(input(\"Velocidad del asteroide\")) ##En este ejemplo el asteroide viaja a 19 km/s\n",
    "tamaño_asteroide = int(input(\"Tamaño del asteroide\"))\n",
    "\n",
    "if(velocidad_asteroide >= 20 and tamaño_asteroide > 25):\n",
    "    print(\"Esten atentos el asteroide puede producir un destello de luz al entrar a la superficie\")\n",
    "\n",
    "if(velocidad_asteroide > 25 and tamaño_asteroide > 25):\n",
    "    print(\"Advertencia un asteroide de gran tamaño y velocidad impactara con la tierra en los siguientes minutos\")\n",
    "elif(velocidad_asteroide <= 25 and tamaño_asteroide > 25):\n",
    "    print(\"Advertencia un asteroide de gran tamaño impactara con la tierra en los siguientes miles de años\")\n",
    "else:\n",
    "    print(\"No existe ninguna amenaza por el momento\")"
   ]
  }
 ],
 "metadata": {
  "interpreter": {
   "hash": "be91eeac8230c51572e022b32208dc52e29685f5717122412ed1bf2d616e7ca0"
  },
  "kernelspec": {
   "display_name": "Python 3.10.2 64-bit",
   "language": "python",
   "name": "python3"
  },
  "language_info": {
   "codemirror_mode": {
    "name": "ipython",
    "version": 3
   },
   "file_extension": ".py",
   "mimetype": "text/x-python",
   "name": "python",
   "nbconvert_exporter": "python",
   "pygments_lexer": "ipython3",
   "version": "3.10.2"
  },
  "orig_nbformat": 4
 },
 "nbformat": 4,
 "nbformat_minor": 2
}
